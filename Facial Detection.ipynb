{
 "cells": [
  {
   "cell_type": "markdown",
   "id": "0558ae6e",
   "metadata": {},
   "source": [
    "# Facial Detection"
   ]
  },
  {
   "cell_type": "code",
   "execution_count": 1,
   "id": "fde84871",
   "metadata": {},
   "outputs": [],
   "source": [
    "# Import all libraries\n",
    "\n",
    "import numpy as np\n",
    "import cv2"
   ]
  },
  {
   "cell_type": "code",
   "execution_count": 2,
   "id": "4bf08776",
   "metadata": {},
   "outputs": [],
   "source": [
    "#!pip install opencv-python"
   ]
  },
  {
   "cell_type": "code",
   "execution_count": 3,
   "id": "72c40eef",
   "metadata": {},
   "outputs": [],
   "source": [
    "#Step 1: Webcam\n",
    "\n",
    "webcam = cv2.VideoCapture(0)  #local webcam - 0, External webcam - 1"
   ]
  },
  {
   "cell_type": "code",
   "execution_count": 4,
   "id": "629c6930",
   "metadata": {},
   "outputs": [],
   "source": [
    "# Step 2: Leverage HAARCASCADEs algortithm\n",
    "face_cascade = cv2.CascadeClassifier(cv2.data.haarcascades + 'haarcascade_frontalface_default.xml')\n",
    "eye_cascade = cv2.CascadeClassifier(cv2.data.haarcascades + 'haarcascade_eye.xml')\n",
    "smile_cascade = cv2.CascadeClassifier(cv2.data.haarcascades + 'haarcascade_smile.xml')\n",
    "#glasses_cascade = cv2.CascadeClassifier(cv2.data.haarcascades + 'haarcascade_eye_tree_eyeglasses.xml')"
   ]
  },
  {
   "cell_type": "code",
   "execution_count": 5,
   "id": "e782a80e",
   "metadata": {},
   "outputs": [],
   "source": [
    "# Step 3: Create a function that will leverage the cascade for face detection\n",
    "# gray = grayscale, frame= color\n",
    "def detect(gray, frame):\n",
    "    face = face_cascade.detectMultiScale(gray, 1.3,5)\n",
    "    for (x,y,h,w) in face:\n",
    "        cv2.rectangle(frame, (x,y), (x+w, y+h), (255,0,0), 3)\n",
    "        roi_gray = gray[y:y+h, x:x+w]\n",
    "        roi_color = frame[y:y+h, x:x+w]\n",
    "        \n",
    "        #eye detection\n",
    "        eyes = eye_cascade.detectMultiScale(roi_gray, 1.1,3) #actual eye detection\n",
    "        for (ex,ey,eh,ew) in eyes:\n",
    "            cv2.rectangle(roi_color, (ex,ey), (ex+ew, ey+eh), (0,255,100), 3)   \n",
    "            \n",
    "        #smile detection\n",
    "        smile = smile_cascade.detectMultiScale(roi_gray, 2.7,22)\n",
    "        for (sx,sy,sh,sw) in smile:\n",
    "            cv2.rectangle(roi_color, (sx,sy), (sx+sw, sy+sh), (100,55,160), 3) \n",
    "            \n",
    "        \n",
    "    return frame"
   ]
  },
  {
   "cell_type": "code",
   "execution_count": 6,
   "id": "f6a09ef4",
   "metadata": {},
   "outputs": [],
   "source": [
    "# Step 4: switch on webcam\n",
    "\n",
    "while True:\n",
    "    _, frame = webcam.read() #switch on webcam\n",
    "    \n",
    "    #Convert colored frame to black and white\n",
    "    gray = cv2.cvtColor(frame, cv2.COLOR_BGR2GRAY)\n",
    "    \n",
    "    video = detect(gray, frame)\n",
    "    \n",
    "    cv2.imshow('10Alytics Facial Detection', video)\n",
    "    if cv2.waitKey(1) & 0xff ==ord('q'):\n",
    "        break\n",
    "webcam.release()\n",
    "cv2.destroyAllWindows()"
   ]
  },
  {
   "cell_type": "code",
   "execution_count": null,
   "id": "2332fab1",
   "metadata": {},
   "outputs": [],
   "source": []
  }
 ],
 "metadata": {
  "kernelspec": {
   "display_name": "Python 3 (ipykernel)",
   "language": "python",
   "name": "python3"
  },
  "language_info": {
   "codemirror_mode": {
    "name": "ipython",
    "version": 3
   },
   "file_extension": ".py",
   "mimetype": "text/x-python",
   "name": "python",
   "nbconvert_exporter": "python",
   "pygments_lexer": "ipython3",
   "version": "3.9.12"
  }
 },
 "nbformat": 4,
 "nbformat_minor": 5
}
